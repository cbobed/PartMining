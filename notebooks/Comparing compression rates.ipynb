{
 "cells": [
  {
   "cell_type": "code",
   "execution_count": 1,
   "metadata": {},
   "outputs": [],
   "source": [
    "###############################################################################\n",
    "# Author: Carlos Bobed\n",
    "# Date: Nov 2020\n",
    "# Comments: code to merge codetables, translate them and use them to compress\n",
    "# Modifications:\n",
    "###############################################################################"
   ]
  },
  {
   "cell_type": "code",
   "execution_count": 1,
   "metadata": {
    "ExecuteTime": {
     "end_time": "2021-08-05T09:35:45.600002Z",
     "start_time": "2021-08-05T09:35:45.526300Z"
    }
   },
   "outputs": [
    {
     "ename": "ModuleNotFoundError",
     "evalue": "No module named 'codeTest'",
     "output_type": "error",
     "traceback": [
      "\u001b[1;31m---------------------------------------------------------------------------\u001b[0m",
      "\u001b[1;31mModuleNotFoundError\u001b[0m                       Traceback (most recent call last)",
      "\u001b[1;32m<ipython-input-1-8cd3d6b69143>\u001b[0m in \u001b[0;36m<module>\u001b[1;34m\u001b[0m\n\u001b[1;32m----> 1\u001b[1;33m \u001b[1;32mimport\u001b[0m \u001b[0mcodeTest\u001b[0m\u001b[1;33m.\u001b[0m\u001b[0mtest\u001b[0m \u001b[1;32mas\u001b[0m \u001b[0mt\u001b[0m\u001b[1;33m\u001b[0m\u001b[1;33m\u001b[0m\u001b[0m\n\u001b[0m\u001b[0;32m      2\u001b[0m \u001b[0mt\u001b[0m\u001b[1;33m.\u001b[0m\u001b[0mtesting\u001b[0m\u001b[1;33m(\u001b[0m\u001b[1;33m)\u001b[0m\u001b[1;33m\u001b[0m\u001b[1;33m\u001b[0m\u001b[0m\n",
      "\u001b[1;31mModuleNotFoundError\u001b[0m: No module named 'codeTest'"
     ]
    }
   ],
   "source": [
    "import codeTest.test as t\n",
    "t.testing()"
   ]
  },
  {
   "cell_type": "markdown",
   "metadata": {},
   "source": [
    "Now we have to merge different CTs and compare the compression rates"
   ]
  },
  {
   "cell_type": "code",
   "execution_count": 5,
   "metadata": {},
   "outputs": [],
   "source": [
    "## method to read for the Vreeken's codetable format \n",
    "## we don't need it to be a generator \n",
    "## we do label each code and honor the order in the code table (length, support, lexicographical)\n",
    "## following Pierre's suggestion, we keep track of the codes and the transaction IDs \n",
    "def read_codetable(filename, load_all): \n",
    "    codes = {}\n",
    "    label = 0 \n",
    "    with open(filename, mode='rt', encoding='UTF-8') as file: \n",
    "        for line in file: \n",
    "            item_line = list(filter(None, line.rstrip('\\n').split(' ')))\n",
    "            ## only_used => those codes whose usage is > 0\n",
    "            ## we get the last token, check whether it ends with )\n",
    "            ## then, we get exactly the contents and check whether the first \n",
    "            ## component is different from 0\n",
    "            if (item_line[-1].endswith(')')): \n",
    "                usage,support = item_line[-1][1:-1].split(',')\n",
    "                if (load_all or int(usage) != 0):\n",
    "                    codes[label]={'code': item_line[:-1], 'usage':int(usage), 'support':int(support)}\n",
    "                    label+=1\n",
    "    return codes    \n",
    "\n",
    "## read information from the analysis to get back to the .dat file and select them\n",
    "## we can cluster them according just to the items, or to the transactions themselves\n",
    "## added the bidir table \n",
    "def read_analysis_table_bidir (filename): \n",
    "    db_dat_table = {}\n",
    "    dat_db_table = {}\n",
    "    with open(filename, mode='rt', encoding='UTF-8') as file: \n",
    "        # skip the first  lines\n",
    "        for i in range(15): \n",
    "            file.readline()\n",
    "        current_line = file.readline()\n",
    "        while (current_line != \"\\n\"): \n",
    "            aux = current_line.split()[0].split('=>')\n",
    "            db_dat_table[int(aux[0])] = int(aux[1])\n",
    "            dat_db_table[int(aux[1])] = int(aux[0])\n",
    "            current_line = file.readline()\n",
    "    return db_dat_table, dat_db_table\n",
    "\n",
    "def convert_int_codetable (codetable, analysis_table): \n",
    "    converted = {}\n",
    "    for label in codetable: \n",
    "        translated_code = [ analysis_table[int(item)] for item in codetable[label]['code']]\n",
    "        converted[label] = {'code_int':translated_code, \n",
    "                            'code_set':set(translated_code)}\n",
    "    return converted\n",
    "\n",
    "\n",
    "## naive way of merging the codetables \n",
    "## for convenience we work here with integers (we kept the codetables as string tokens to be able to handle the vector models)\n",
    "def merge_codetables (codetables): \n",
    "    merged = {}\n",
    "    non_colision_labelbase = 0\n",
    "    for ct in codetables: \n",
    "        for label in ct: \n",
    "            current_label = str(non_colision_labelbase) + '_' + str(label)\n",
    "            merged[current_label] = ct[label]\n",
    "        non_colision_labelbase +=1\n",
    "    # we keep track of the codes that are duplicated\n",
    "    to_omit = set() \n",
    "    merged_key_list = list(merged.keys())\n",
    "    for i in range(len(merged_key_list)): \n",
    "        if merged_key_list[i] not in to_omit: \n",
    "            for j in range(i+1, len(merged_key_list)): \n",
    "                if merged_key_list[j] not in to_omit:\n",
    "                    # depending on how the table has been obtained it might or not have the code_set field\n",
    "                    ## converted using the analysis table (convert_int_codetable) => it has \n",
    "                    ## loaded from file => it hasn't \n",
    "                    if 'code_set' in merged[merged_key_list[i]]: \n",
    "                        set_i = merged[merged_key_list[i]]['code_set'] \n",
    "                    else:\n",
    "                        set_i = set([int(item) for item in merged[merged_key_list[i]]['code']])\n",
    "                    if 'code_set' in merged[merged_key_list[j]]: \n",
    "                        set_j = merged[merged_key_list[j]]['code_set']\n",
    "                    else: \n",
    "                        set_j = set([int(item) for item in merged[merged_key_list[j]]['code']])\n",
    "                    if set_i == set_j: \n",
    "                        to_omit.add(merged_key_list[j])\n",
    "    # we get rid of the duplicated entries in the codetable\n",
    "    [merged.pop(code) for code in to_omit]\n",
    "     \n",
    "    for label in merged: \n",
    "        if 'code_int' in merged[label]:\n",
    "            merged[label]['code'] = [str(item) for item in merged[label]['code_int']]\n",
    "        merged[label]['usage'] = 0\n",
    "        merged[label]['support'] = 0\n",
    "        \n",
    "    return merged \n"
   ]
  },
  {
   "cell_type": "code",
   "execution_count": 3,
   "metadata": {},
   "outputs": [],
   "source": [
    "## to keep track of the transactions id in the database, we read them in a different method\n",
    "def read_database_db (filename): \n",
    "    transactions = {}\n",
    "    label = 0\n",
    "    with open(filename, mode='rt', encoding='UTF-8') as file: \n",
    "        for line in open(filename, mode='rt', encoding='UTF-8'): \n",
    "            if (line.split(':')[0].isnumeric()): \n",
    "                aux = line.split(':')[1].rstrip('\\n')\n",
    "                words = filter(None,aux.split(' '))\n",
    "                transactions[label] = list(words)\n",
    "                label+=1\n",
    "    return transactions\n",
    "\n",
    "def read_database_dat(filename): \n",
    "    transactions = {}\n",
    "    label = 0\n",
    "    with open(filename, mode='rt', encoding='UTF-8') as file: \n",
    "        for line in open(filename, mode='rt', encoding='UTF-8'): \n",
    "            aux = line.rstrip('\\n')\n",
    "            words = filter(None,aux.split(' '))\n",
    "            transactions[label] = list(words)\n",
    "            label+=1\n",
    "    return transactions"
   ]
  },
  {
   "cell_type": "code",
   "execution_count": 4,
   "metadata": {},
   "outputs": [],
   "source": [
    "# Standard cover order\n",
    "# |X|↓ suppD(X) ↓ lexicographically ↑\n",
    "\n",
    "# Standard candidate order \n",
    "# suppD(X) ↓|X|↓ lexicographically ↑   \n",
    "\n",
    "def calculate_transaction_cover(transaction, codetable): \n",
    "    item_set = set(transaction)\n",
    "    codes = []\n",
    "    current_code = 0\n",
    "    while (len(item_set) != 0 and current_code < len(codetable) ):\n",
    "        aux_code_set = set(codetable[current_code]['code'])\n",
    "        if (aux_code_set.issubset(item_set)): \n",
    "            codes.append(current_code)\n",
    "            item_set.difference_update(aux_code_set)\n",
    "        current_code+=1\n",
    "    return codes\n",
    "\n",
    "def calculate_codetable_support(database, codetable): \n",
    "    # to speed up the calculations, we augment the codetable with the set version of the code\n",
    "    for label in codetable: \n",
    "        codetable[label]['code_set'] = set([int(item) for item in codetable[label]['code']])\n",
    "    \n",
    "    for trans in database: \n",
    "        item_set = set([int(item) for item in database[trans]])\n",
    "        ## we have to check all the codes in the code table \n",
    "        ## this might be expensive ... we could just get the sum of the supports in the different databases \n",
    "        ## note that this is additive so in a better implementation it wouldn't be a problem\n",
    "        for label in codetable: \n",
    "            ## if the intersection of the code is complete with the transaction\n",
    "            if len(codetable[label]['code_set'].intersection(item_set)) == len(codetable[label]['code_set']): \n",
    "                codetable[label]['support'] += 1\n",
    "        \n",
    "## Note that I cannot do it until I have the codetable \n",
    "def calculate_codetable_usage (database, codetable): \n",
    "    for label in codetable: \n",
    "        codetable[label]['code_set'] = set([int(item) for item in codetable[label]['code']])\n",
    "    \n",
    "    for trans in database: \n",
    "        remaining_item_set = set([int(item) for item in database[trans]])\n",
    "        current_code = 0\n",
    "        while len(remaining_item_set) != 0 and current_code < len(codetable): \n",
    "            if len(codetable[current_code]['code_set'].intersection(remaining_item_set)) == len(codetable[current_code]['code_set']): \n",
    "                codetable[current_code]['usage'] += 1\n",
    "                remaining_item_set = remaining_item_set - codetable[current_code]['code_set']\n",
    "            current_code +=1\n",
    "            \n",
    "        if len(remaining_item_set) != 0: \n",
    "            print('This codetable is not covering properly the database ... is the SCT added?')\n",
    "\n",
    "\n",
    "def codetable_in_standard_cover_order(codetable): \n",
    "    # we have to be careful with singleton codes (strings) ... if they have more than one char, they were \n",
    "    # getting innerly sorted\n",
    "    return {idx:{'code':sorted(codetable[label]['code']) if not isinstance(codetable[label]['code'], str) else codetable[label]['code'], \n",
    "             'support':codetable[label]['support'], \n",
    "             'usage':codetable[label]['usage']}\n",
    "                for idx,label in enumerate(sorted(codetable.keys(), reverse=True, \n",
    "                                                  key = lambda x:(len(codetable[x]['code']) if not isinstance(codetable[x]['code'],str) else 1\n",
    "                                                                  ,codetable[x]['support'])), \n",
    "                                          start=0)}\n",
    "\n"
   ]
  },
  {
   "cell_type": "code",
   "execution_count": 5,
   "metadata": {},
   "outputs": [],
   "source": [
    "def build_SCT(database): \n",
    "    sct_codetable = {}\n",
    "    for trans in database: \n",
    "        for singleton in [int(item) for item in database[trans]]: \n",
    "            \n",
    "            if singleton not in sct_codetable: \n",
    "                sct_codetable[singleton] = {'code':str(singleton), 'support':0, 'usage':0}\n",
    "            sct_codetable[singleton]['usage'] = sct_codetable[singleton]['usage'] + 1\n",
    "            sct_codetable[singleton]['support'] = sct_codetable[singleton]['support'] + 1\n",
    "    return sct_codetable"
   ]
  },
  {
   "cell_type": "code",
   "execution_count": 6,
   "metadata": {},
   "outputs": [
    {
     "data": {
      "text/plain": [
       "0.6780719051126377"
      ]
     },
     "execution_count": 6,
     "metadata": {},
     "output_type": "execute_result"
    }
   ],
   "source": [
    "import math\n",
    "num_bits = - math.log(5/8,2)\n",
    "num_bits"
   ]
  },
  {
   "cell_type": "code",
   "execution_count": 7,
   "metadata": {},
   "outputs": [],
   "source": [
    "import math\n",
    "def calculate_size_database_from_codetable(codetable): \n",
    "    sum_usage = 0\n",
    "    size = 0.0\n",
    "    for label in codetable: \n",
    "        sum_usage += codetable[label]['usage']\n",
    "    for label in codetable: \n",
    "        if (codetable[label]['usage'] != 0): \n",
    "            num_bits = -math.log(codetable[label]['usage'] / sum_usage)\n",
    "            size += codetable[label]['usage'] * num_bits\n",
    "    return size"
   ]
  },
  {
   "cell_type": "code",
   "execution_count": 8,
   "metadata": {},
   "outputs": [
    {
     "name": "stdout",
     "output_type": "stream",
     "text": [
      "{10, 20}\n",
      "{100, 40, 80, 60, 30}\n",
      "{10, 20}\n"
     ]
    }
   ],
   "source": [
    "# Driver Code \n",
    "A = {10, 20, 30, 40, 80} \n",
    "B = {100, 30, 80, 40, 60} \n",
    "A = A-B\n",
    "print (A - B) \n",
    "print (B - A) \n",
    "print(A)"
   ]
  },
  {
   "cell_type": "code",
   "execution_count": 9,
   "metadata": {},
   "outputs": [],
   "source": [
    "database_name = 'connect'\n",
    "database_filename = database_name + '.db'\n",
    "database_model_filename = database_filename + '.vect'\n",
    "codetable_filename = database_name+'-latest-SLIM.ct'\n"
   ]
  },
  {
   "cell_type": "code",
   "execution_count": 10,
   "metadata": {},
   "outputs": [],
   "source": [
    "import os\n",
    "ct = read_codetable(os.path.join('databases', codetable_filename), False)\n",
    "ct2 = read_codetable(os.path.join('databases', codetable_filename), True)\n",
    "db = read_database_db(os.path.join('databases', database_filename))"
   ]
  },
  {
   "cell_type": "code",
   "execution_count": 11,
   "metadata": {},
   "outputs": [],
   "source": [
    "merged = merge_codetables([ct,ct2])"
   ]
  },
  {
   "cell_type": "code",
   "execution_count": 12,
   "metadata": {},
   "outputs": [
    {
     "name": "stdout",
     "output_type": "stream",
     "text": [
      "1799\n",
      "1672\n",
      "1799\n"
     ]
    }
   ],
   "source": [
    "print(len(merged))\n",
    "print(len(ct))\n",
    "print(len(ct2))"
   ]
  },
  {
   "cell_type": "code",
   "execution_count": 13,
   "metadata": {},
   "outputs": [],
   "source": [
    "calculate_codetable_support(db,merged)"
   ]
  },
  {
   "cell_type": "markdown",
   "metadata": {},
   "source": [
    "merged"
   ]
  },
  {
   "cell_type": "markdown",
   "metadata": {},
   "source": [
    "merged_std = codetable_in_standard_cover_order(merged)\n",
    "merged_std"
   ]
  },
  {
   "cell_type": "markdown",
   "metadata": {},
   "source": [
    "calculate_codetable_usage(db, merged_std)"
   ]
  },
  {
   "cell_type": "markdown",
   "metadata": {},
   "source": [
    "ct2"
   ]
  },
  {
   "cell_type": "markdown",
   "metadata": {},
   "source": [
    "merged_std"
   ]
  },
  {
   "cell_type": "code",
   "execution_count": 15,
   "metadata": {},
   "outputs": [],
   "source": [
    "# I still have to: \n",
    "# - build a non initialized singleton codetable \n",
    "# - calculate the size of the database from usages\n",
    "# - calculate the ratio of the database compressed with the codetable, and the database compressed with the SCT. \n"
   ]
  },
  {
   "cell_type": "markdown",
   "metadata": {},
   "source": [
    "sct = build_SCT(db)"
   ]
  },
  {
   "cell_type": "markdown",
   "metadata": {},
   "source": [
    "sct"
   ]
  },
  {
   "cell_type": "markdown",
   "metadata": {},
   "source": [
    "sct_std = codetable_in_standard_cover_order(sct)"
   ]
  },
  {
   "cell_type": "markdown",
   "metadata": {},
   "source": [
    "sct_std"
   ]
  },
  {
   "cell_type": "code",
   "execution_count": 16,
   "metadata": {},
   "outputs": [
    {
     "ename": "NameError",
     "evalue": "name 'merged_std' is not defined",
     "output_type": "error",
     "traceback": [
      "\u001b[0;31m---------------------------------------------------------------------------\u001b[0m",
      "\u001b[0;31mNameError\u001b[0m                                 Traceback (most recent call last)",
      "\u001b[0;32m<ipython-input-16-e7a143a4d606>\u001b[0m in \u001b[0;36m<module>\u001b[0;34m\u001b[0m\n\u001b[0;32m----> 1\u001b[0;31m \u001b[0mmerged_size\u001b[0m \u001b[0;34m=\u001b[0m \u001b[0mcalculate_size_database_from_codetable\u001b[0m \u001b[0;34m(\u001b[0m\u001b[0mmerged_std\u001b[0m\u001b[0;34m)\u001b[0m\u001b[0;34m\u001b[0m\u001b[0;34m\u001b[0m\u001b[0m\n\u001b[0m\u001b[1;32m      2\u001b[0m \u001b[0msct_size\u001b[0m \u001b[0;34m=\u001b[0m \u001b[0mcalculate_size_database_from_codetable\u001b[0m\u001b[0;34m(\u001b[0m\u001b[0msct_std\u001b[0m\u001b[0;34m)\u001b[0m\u001b[0;34m\u001b[0m\u001b[0;34m\u001b[0m\u001b[0m\n",
      "\u001b[0;31mNameError\u001b[0m: name 'merged_std' is not defined"
     ]
    }
   ],
   "source": [
    "merged_size = calculate_size_database_from_codetable (merged_std)\n",
    "sct_size = calculate_size_database_from_codetable(sct_std)"
   ]
  },
  {
   "cell_type": "code",
   "execution_count": 17,
   "metadata": {},
   "outputs": [
    {
     "ename": "NameError",
     "evalue": "name 'merged_size' is not defined",
     "output_type": "error",
     "traceback": [
      "\u001b[0;31m---------------------------------------------------------------------------\u001b[0m",
      "\u001b[0;31mNameError\u001b[0m                                 Traceback (most recent call last)",
      "\u001b[0;32m<ipython-input-17-c40bdfd5558d>\u001b[0m in \u001b[0;36m<module>\u001b[0;34m\u001b[0m\n\u001b[0;32m----> 1\u001b[0;31m \u001b[0mprint\u001b[0m\u001b[0;34m(\u001b[0m\u001b[0;34mf'merged_size:{merged_size} sct_size:{sct_size} ratio:{merged_size/sct_size}'\u001b[0m\u001b[0;34m)\u001b[0m\u001b[0;34m\u001b[0m\u001b[0;34m\u001b[0m\u001b[0m\n\u001b[0m",
      "\u001b[0;31mNameError\u001b[0m: name 'merged_size' is not defined"
     ]
    }
   ],
   "source": [
    "print(f'merged_size:{merged_size} sct_size:{sct_size} ratio:{merged_size/sct_size}')"
   ]
  },
  {
   "cell_type": "code",
   "execution_count": 18,
   "metadata": {},
   "outputs": [],
   "source": [
    "import os\n",
    "## testing everything together (connect database)\n",
    "\n",
    "database_name = 'connect'\n",
    "database_db_filename = database_name + '.db'\n",
    "database_dat_filename = database_name + '.dat'\n",
    "database_model_filename = database_filename + '.vect'\n",
    "database_analysis_filename = database_db_filename + '.analysis.txt'\n",
    "codetable_filename = database_name+'-latest-SLIM.ct'"
   ]
  },
  {
   "cell_type": "code",
   "execution_count": 19,
   "metadata": {},
   "outputs": [],
   "source": [
    "db_dat_table, dat_db_table = read_analysis_table_bidir(os.path.join('databases', database_analysis_filename))"
   ]
  },
  {
   "cell_type": "code",
   "execution_count": 20,
   "metadata": {},
   "outputs": [],
   "source": [
    "## we calculate the compression rate in the .dat \n",
    "orig_codetable = read_codetable(os.path.join('databases', codetable_filename), True)\n",
    "converted_orig_codetable = convert_int_codetable(orig_codetable, db_dat_table)\n",
    "orig_dat_database = read_database_dat(os.path.join('databases', database_dat_filename))"
   ]
  },
  {
   "cell_type": "code",
   "execution_count": 21,
   "metadata": {},
   "outputs": [
    {
     "name": "stdout",
     "output_type": "stream",
     "text": [
      "1799\n",
      "{'code_int': [91, 109, 127, 75, 55, 37, 19, 88, 106, 124, 72, 85, 16, 121, 82, 13, 118, 79, 10, 115, 1, 7, 76, 112, 4], 'code_set': {1, 4, 7, 10, 13, 16, 19, 37, 55, 72, 75, 76, 79, 82, 85, 88, 91, 106, 109, 112, 115, 118, 121, 124, 127}}\n",
      "{'code': ['0', '1', '2', '3', '4', '5', '6', '7', '8', '9', '10', '11', '12', '16', '18', '19', '23', '25', '26', '30', '32', '33', '35', '39', '42'], 'usage': 2404, 'support': 2404}\n"
     ]
    }
   ],
   "source": [
    "print(len(converted_orig_codetable))\n",
    "print(converted_orig_codetable[0])\n",
    "print(orig_codetable[0])"
   ]
  },
  {
   "cell_type": "code",
   "execution_count": 22,
   "metadata": {},
   "outputs": [],
   "source": [
    "converted_orig_codetable = merge_codetables([converted_orig_codetable])\n",
    "calculate_codetable_support(orig_dat_database, converted_orig_codetable)\n",
    "converted_orig_codetable_sco = codetable_in_standard_cover_order(converted_orig_codetable)"
   ]
  },
  {
   "cell_type": "code",
   "execution_count": 23,
   "metadata": {},
   "outputs": [
    {
     "name": "stdout",
     "output_type": "stream",
     "text": [
      "1799\n",
      "{'code_int': [91, 109, 127, 75, 55, 37, 19, 88, 106, 124, 72, 85, 16, 121, 82, 13, 118, 79, 10, 115, 1, 7, 76, 4, 113], 'code_set': {1, 4, 7, 10, 13, 16, 19, 37, 55, 72, 75, 76, 79, 82, 85, 88, 91, 106, 109, 113, 115, 118, 121, 124, 127}, 'code': ['91', '109', '127', '75', '55', '37', '19', '88', '106', '124', '72', '85', '16', '121', '82', '13', '118', '79', '10', '115', '1', '7', '76', '4', '113'], 'usage': 0, 'support': 1363}\n",
      "{'code': ['1', '10', '106', '109', '112', '115', '118', '121', '124', '127', '13', '16', '19', '37', '4', '55', '7', '72', '75', '76', '79', '82', '85', '88', '91'], 'support': 2404, 'usage': 0}\n"
     ]
    }
   ],
   "source": [
    "print(len(converted_orig_codetable))\n",
    "print(converted_orig_codetable['0_1'])\n",
    "print(converted_orig_codetable_sco[0])"
   ]
  },
  {
   "cell_type": "code",
   "execution_count": 24,
   "metadata": {},
   "outputs": [],
   "source": [
    "calculate_codetable_usage(orig_dat_database, converted_orig_codetable_sco)"
   ]
  },
  {
   "cell_type": "code",
   "execution_count": 25,
   "metadata": {},
   "outputs": [],
   "source": [
    "sct_codetable = build_SCT(orig_dat_database)\n",
    "sct_codetable_sco = codetable_in_standard_cover_order(sct_codetable)"
   ]
  },
  {
   "cell_type": "code",
   "execution_count": 26,
   "metadata": {},
   "outputs": [
    {
     "name": "stdout",
     "output_type": "stream",
     "text": [
      "orig_ratio:0.11404116846703768\n"
     ]
    }
   ],
   "source": [
    "orig_size = calculate_size_database_from_codetable (converted_orig_codetable_sco)\n",
    "sct_size = calculate_size_database_from_codetable(sct_codetable_sco)\n",
    "orig_ratio = orig_size / sct_size \n",
    "print(f'orig_ratio:{orig_ratio}')"
   ]
  },
  {
   "cell_type": "code",
   "execution_count": 27,
   "metadata": {},
   "outputs": [],
   "source": [
    "orig_usage_array = [converted_orig_codetable_sco[i]['usage'] for i in converted_orig_codetable_sco]\n",
    "orig_support_array = [converted_orig_codetable_sco[i]['support'] for i in converted_orig_codetable_sco]\n",
    "orig_length_codes_array=[len(converted_orig_codetable_sco[i]['code']) for i in converted_orig_codetable_sco]\n",
    "\n",
    "sct_usage_array = [sct_codetable_sco[i]['support'] for i in sct_codetable_sco]"
   ]
  },
  {
   "cell_type": "code",
   "execution_count": 28,
   "metadata": {},
   "outputs": [
    {
     "name": "stdout",
     "output_type": "stream",
     "text": [
      "381\n",
      "693\n",
      "124\n"
     ]
    }
   ],
   "source": [
    "print(len(set(orig_usage_array)))\n",
    "print(len(set(orig_support_array)))\n",
    "print(len(set(sct_usage_array)))"
   ]
  },
  {
   "cell_type": "code",
   "execution_count": 29,
   "metadata": {},
   "outputs": [
    {
     "data": {
      "image/png": "[encoded data removed]",
      "text/plain": [
       "<Figure size 432x288 with 1 Axes>"
      ]
     },
     "metadata": {},
     "output_type": "display_data"
    },
    {
     "data": {
      "image/png": "[encoded data removed]",
      "text/plain": [
       "<Figure size 432x288 with 1 Axes>"
      ]
     },
     "metadata": {},
     "output_type": "display_data"
    },
    {
     "data": {
      "image/png": "[encoded data removed]",
      "text/plain": [
       "<Figure size 432x288 with 1 Axes>"
      ]
     },
     "metadata": {},
     "output_type": "display_data"
    },
    {
     "data": {
      "image/png": "[encoded data removed]",
      "text/plain": [
       "<Figure size 432x288 with 1 Axes>"
      ]
     },
     "metadata": {},
     "output_type": "display_data"
    }
   ],
   "source": [
    "# we draw the histogram of the usage of the codes as well as the histogram of their support \n",
    "## as well as the histogram of the support of the items \n",
    "\n",
    "# again kudos for making things easier to \n",
    "\n",
    "# https://datatofish.com/plot-histogram-python/\n",
    "# n = number of observations\n",
    "# Range = maximum value – minimum value\n",
    "# # of intervals =  √n\n",
    "# Width of intervals =  Range / (# of intervals)\n",
    "\n",
    "import matplotlib.pyplot as plt\n",
    "\n",
    "plt.style.use('ggplot')\n",
    "plt.hist(orig_usage_array, bins=100, range=[0, max(orig_usage_array)])\n",
    "plt.title('Orig codetable Usage')\n",
    "plt.show()\n",
    "\n",
    "plt.hist(orig_support_array, bins=100, range=[0, max(orig_support_array)])\n",
    "plt.title('Orig codetable Support')\n",
    "plt.show()\n",
    "\n",
    "plt.hist(orig_length_codes_array, bins=100, range=[0, max(orig_length_codes_array)])\n",
    "plt.title('Orig length codes')\n",
    "plt.show()\n",
    "\n",
    "plt.hist(sct_usage_array, bins=100, range=[0, max(sct_usage_array)])\n",
    "plt.title('Item codetable Support')\n",
    "plt.show()\n",
    "\n"
   ]
  },
  {
   "cell_type": "markdown",
   "metadata": {},
   "source": [
    "0.11399764858298939161 is the ratio of the original calculation (Vreekens' report file || dbSize columns) \n",
    "\n",
    "orig_ratio:0.11404116846703768\n",
    "merged_ratio: 0.16585858752256222\n",
    "merged_normalized_ratio: 0.17072056852230064\n",
    "\n"
   ]
  },
  {
   "cell_type": "code",
   "execution_count": 31,
   "metadata": {},
   "outputs": [],
   "source": [
    "# Now the different codetables calculated each separately\n",
    "# connect_trans_clust_i.ct\n",
    "# connect_trans_clust_i.db.analysis.txt\n",
    "\n",
    "codetables = []\n",
    "\n",
    "for i in range(8):\n",
    "\n",
    "    current_name = database_name+'_ord_200d_k8_trans_clust_'+str(i)+'_k8'\n",
    "#     current_name = database_name+'_trans_clust_'+str(i)\n",
    "    aux_db_dat_table, aux_dat_db_table = read_analysis_table_bidir(os.path.join('databases', current_name+'.db.analysis.txt'))\n",
    "    aux_codetable = read_codetable(os.path.join('databases', database_name+'_ord_200d_k8_trans_clust_'+str(i)+'_k8.ct'), True)\n",
    "#     aux_codetable = read_codetable(os.path.join('databases', database_name+'_trans_clust_'+str(i)+'.ct'), True)\n",
    "    aux_converted_codetable = convert_int_codetable(aux_codetable, aux_db_dat_table)\n",
    "    codetables.append(aux_converted_codetable)\n"
   ]
  },
  {
   "cell_type": "code",
   "execution_count": null,
   "metadata": {},
   "outputs": [],
   "source": [
    "### Compression ratio of each of the partitions\n",
    "\n"
   ]
  },
  {
   "cell_type": "code",
   "execution_count": 32,
   "metadata": {},
   "outputs": [
    {
     "name": "stdout",
     "output_type": "stream",
     "text": [
      "global:129 local:[90, 97, 95, 101, 93, 99, 101, 87]\n",
      "0: ['   1.0', '0.8515', '0.8687', ' 0.819', '0.8866', '0.8713', ' 0.819', '0.9032']\n",
      "1: ['0.8515', '   1.0', '0.8286', '0.8165', '0.8447', '0.8318', '0.8333', '0.7864']\n",
      "2: ['0.8687', '0.8286', '   1.0', '0.8318', '0.8614', '0.8476', '0.8148', ' 0.802']\n",
      "3: [' 0.819', '0.8165', '0.8318', '   1.0', '0.8131', '0.8349', '0.8532', ' 0.757']\n",
      "4: ['0.8866', '0.8447', '0.8614', '0.8131', '   1.0', '0.8286', '0.7963', '0.8182']\n",
      "5: ['0.8713', '0.8318', '0.8476', '0.8349', '0.8286', '   1.0', '0.8182', '0.8058']\n",
      "6: [' 0.819', '0.8333', '0.8148', '0.8532', '0.7963', '0.8182', '   1.0', '0.7407']\n",
      "7: ['0.9032', '0.7864', ' 0.802', ' 0.757', '0.8182', '0.8058', '0.7407', '   1.0']\n",
      "70\n",
      "[20, 27, 25, 31, 23, 29, 31, 17]\n",
      "0: ['   1.0', '0.5161', '0.5517', '0.4571', '0.5926', '0.5806', '0.4571', '0.6087']\n",
      "1: ['0.5161', '   1.0', '0.4857', '0.4872', '0.5152', '0.5135', '0.5263', '0.3333']\n",
      "2: ['0.5517', '0.4857', '   1.0', '0.5135', '0.5484', '0.5429', '0.4737', '0.3548']\n",
      "3: ['0.4571', '0.4872', '0.5135', '   1.0', '0.4595', '0.5385', '0.5897', '0.2973']\n",
      "4: ['0.5926', '0.5152', '0.5484', '0.4595', '   1.0', '0.4857', '0.4211', '0.3793']\n",
      "5: ['0.5806', '0.5135', '0.5429', '0.5385', '0.4857', '   1.0', '   0.5', '0.3939']\n",
      "6: ['0.4571', '0.5263', '0.4737', '0.5897', '0.4211', '   0.5', '   1.0', '0.2632']\n",
      "7: ['0.6087', '0.3333', '0.3548', '0.2973', '0.3793', '0.3939', '0.2632', '   1.0']\n",
      "intersections\n",
      "0: ['20', '16', '16', '16', '16', '18', '16', '14']\n",
      "1: ['16', '27', '17', '19', '17', '19', '20', '11']\n",
      "2: ['16', '17', '25', '19', '17', '19', '18', '11']\n",
      "3: ['16', '19', '19', '31', '17', '21', '23', '11']\n",
      "4: ['16', '17', '17', '17', '23', '17', '16', '11']\n",
      "5: ['18', '19', '19', '21', '17', '29', '20', '13']\n",
      "6: ['16', '20', '18', '23', '16', '20', '31', '10']\n",
      "7: ['14', '11', '11', '11', '11', '13', '10', '17']\n"
     ]
    }
   ],
   "source": [
    "sets_of_items = []\n",
    "global_set = set()\n",
    "for ct in codetables: \n",
    "    aux_set = set()\n",
    "    for label in ct: \n",
    "        aux_set = aux_set.union(ct[label]['code_set'])\n",
    "    sets_of_items.append(aux_set)\n",
    "    global_set = global_set.union(aux_set)\n",
    "\n",
    "print(f'global:{len(global_set)} local:{[len(i) for i in sets_of_items]}')\n",
    "\n",
    "# we print the jaccard similarities of the sets \n",
    "for idx,s in enumerate(sets_of_items): \n",
    "    dist= ['{:6.4}'.format(len(s.intersection(aux))/len(s.union(aux))) for aux in sets_of_items]\n",
    "    print(f'{idx}: {dist}') \n",
    "    \n",
    "inter = sets_of_items[0]\n",
    "for s in sets_of_items: \n",
    "    inter = inter.intersection(s)\n",
    "print(len(inter))\n",
    "\n",
    "rest = [s.difference(inter) for s in sets_of_items]\n",
    "print(f'{[len(s) for s in rest]}')\n",
    "\n",
    "# we print the jaccard similarities of the sets \n",
    "## we get rid of the \"core\": those which are in all the partitions\n",
    "for idx,s in enumerate(rest): \n",
    "    dist = ['{:6.4}'.format(len(s.intersection(aux))/len(s.union(aux))) for aux in rest]\n",
    "    print(f'{idx}: {dist}') \n",
    "    \n",
    "print('intersections')\n",
    "for idx,s in enumerate(rest): \n",
    "    dist = ['{}'.format(len(s.intersection(aux))) for aux in rest]\n",
    "    print(f'{idx}: {dist}') \n"
   ]
  },
  {
   "cell_type": "code",
   "execution_count": 97,
   "metadata": {},
   "outputs": [
    {
     "name": "stdout",
     "output_type": "stream",
     "text": [
      "max sim: 0,7, 0.9032258064516129\n",
      "1057\n",
      "503\n",
      "638\n",
      "964\n",
      "93\n",
      "413\n",
      "90\n",
      "551\n",
      "87\n",
      "I in J 85 inclusions found\n",
      "J in I 92 inclusions found\n",
      "I in J 177 partial inclusions found\n",
      "J in I 279 partial inclusions found\n"
     ]
    }
   ],
   "source": [
    "from gensim.models import Word2Vec\n",
    "import numpy as np\n",
    "\n",
    "model = Word2Vec.load(os.path.join('databases', database_model_filename)) \n",
    "\n",
    "# we print the jaccard similarities of the sets \n",
    "auxMax = -1.0\n",
    "auxI = 0 \n",
    "auxJ = 0\n",
    "list_of_cts = [x for x in enumerate(sets_of_items)]\n",
    "for (i,s) in list_of_cts: \n",
    "    for (j,t) in list_of_cts: \n",
    "        if (i != j) and auxMax < len(s.intersection(t))/len(s.union(t)): \n",
    "            auxI = i \n",
    "            auxJ = j\n",
    "            auxMax = len(s.intersection(t))/len(s.union(t))\n",
    "            \n",
    "print(f'max sim: {auxI},{auxJ}, {auxMax}')\n",
    "\n",
    "auxMerged = merge_codetables([codetables[auxI], codetables[auxJ]])\n",
    "\n",
    "# sanity code\n",
    "# aux_sets_of_items = []\n",
    "# for ct in [codetables[auxI], codetables[auxJ]]: \n",
    "#     aux_set = set()\n",
    "#     for label in ct: \n",
    "#         aux_set = aux_set.union(ct[label]['code_set'])\n",
    "#     aux_sets_of_items.append(aux_set)\n",
    "    \n",
    "# for idx,s in enumerate(aux_sets_of_items): \n",
    "#     dist= ['{:6.4}'.format(len(s.intersection(aux))/len(s.union(aux))) for aux in aux_sets_of_items]\n",
    "#     print(f'{idx}: {dist}') \n",
    "\n",
    "print(len(auxMerged))\n",
    "print(len(codetables[auxI]))\n",
    "print(len(codetables[auxJ]))\n",
    "\n",
    "print(len([x for x in auxMerged if len(auxMerged[x]['code_int']) > 1]))\n",
    "print(len([x for x in auxMerged if len(auxMerged[x]['code_int']) == 1]))\n",
    "print(len([x for x in codetables[auxI] if len(codetables[auxI][x]['code_int']) > 1]))\n",
    "print(len([x for x in codetables[auxI] if len(codetables[auxI][x]['code_int']) == 1]))\n",
    "print(len([x for x in codetables[auxJ] if len(codetables[auxJ][x]['code_int']) > 1]))\n",
    "print(len([x for x in codetables[auxJ] if len(codetables[auxJ][x]['code_int']) == 1]))\n",
    "\n",
    "included = 0\n",
    "for x in codetables[auxI]: \n",
    "    aux_set_i = codetables[auxI][x]['code_set']\n",
    "    if (len(aux_set_i) > 1): \n",
    "        for y in codetables[auxJ]: \n",
    "            aux_set_j = codetables[auxJ][y]['code_set']\n",
    "            if len(aux_set_i.intersection(aux_set_j)) == len(aux_set_i): \n",
    "                included+=1\n",
    "                break\n",
    "print(f'I in J {included} inclusions found')\n",
    "included = 0\n",
    "for x in codetables[auxJ]: \n",
    "    aux_set_i = codetables[auxJ][x]['code_set']\n",
    "    if (len(aux_set_i) > 1): \n",
    "        for y in codetables[auxI]: \n",
    "            aux_set_j = codetables[auxI][y]['code_set']\n",
    "            if len(aux_set_i.intersection(aux_set_j)) == len(aux_set_i): \n",
    "                included+=1\n",
    "                break\n",
    "            \n",
    "print(f'J in I {included} inclusions found')\n",
    "\n",
    "partial = 0\n",
    "for x in codetables[auxI]: \n",
    "    aux_set_i = codetables[auxI][x]['code_set']\n",
    "    if (len(aux_set_i) > 1): \n",
    "        for y in codetables[auxJ]: \n",
    "            aux_set_j = codetables[auxJ][y]['code_set']\n",
    "            if (len(aux_set_i.intersection(aux_set_j)) / len(aux_set_i) ) > 0.70: \n",
    "                partial+=1\n",
    "                break\n",
    "print(f'I in J {partial} partial inclusions found')\n",
    "partial = 0\n",
    "for x in codetables[auxJ]: \n",
    "    aux_set_i = codetables[auxJ][x]['code_set']\n",
    "    if (len(aux_set_i) > 1): \n",
    "        for y in codetables[auxI]: \n",
    "            aux_set_j = codetables[auxI][y]['code_set']\n",
    "            if (len(aux_set_i.intersection(aux_set_j)) / len(aux_set_i) ) > 0.70: \n",
    "                partial+=1\n",
    "                break\n",
    "            \n",
    "print(f'J in I {partial} partial inclusions found')\n",
    "\n"
   ]
  },
  {
   "cell_type": "code",
   "execution_count": 65,
   "metadata": {},
   "outputs": [
    {
     "data": {
      "text/plain": [
       "{'code_int': [127,\n",
       "  124,\n",
       "  121,\n",
       "  109,\n",
       "  106,\n",
       "  103,\n",
       "  91,\n",
       "  88,\n",
       "  85,\n",
       "  82,\n",
       "  75,\n",
       "  55,\n",
       "  52,\n",
       "  37,\n",
       "  34,\n",
       "  31,\n",
       "  19,\n",
       "  16,\n",
       "  13,\n",
       "  100,\n",
       "  49,\n",
       "  72,\n",
       "  69,\n",
       "  118,\n",
       "  10,\n",
       "  66,\n",
       "  46,\n",
       "  79,\n",
       "  1,\n",
       "  63,\n",
       "  76,\n",
       "  28,\n",
       "  26,\n",
       "  23,\n",
       "  40,\n",
       "  45],\n",
       " 'code_set': {1,\n",
       "  10,\n",
       "  13,\n",
       "  16,\n",
       "  19,\n",
       "  23,\n",
       "  26,\n",
       "  28,\n",
       "  31,\n",
       "  34,\n",
       "  37,\n",
       "  40,\n",
       "  45,\n",
       "  46,\n",
       "  49,\n",
       "  52,\n",
       "  55,\n",
       "  63,\n",
       "  66,\n",
       "  69,\n",
       "  72,\n",
       "  75,\n",
       "  76,\n",
       "  79,\n",
       "  82,\n",
       "  85,\n",
       "  88,\n",
       "  91,\n",
       "  100,\n",
       "  103,\n",
       "  106,\n",
       "  109,\n",
       "  118,\n",
       "  121,\n",
       "  124,\n",
       "  127},\n",
       " 'code': ['127',\n",
       "  '124',\n",
       "  '121',\n",
       "  '109',\n",
       "  '106',\n",
       "  '103',\n",
       "  '91',\n",
       "  '88',\n",
       "  '85',\n",
       "  '82',\n",
       "  '75',\n",
       "  '55',\n",
       "  '52',\n",
       "  '37',\n",
       "  '34',\n",
       "  '31',\n",
       "  '19',\n",
       "  '16',\n",
       "  '13',\n",
       "  '100',\n",
       "  '49',\n",
       "  '72',\n",
       "  '69',\n",
       "  '118',\n",
       "  '10',\n",
       "  '66',\n",
       "  '46',\n",
       "  '79',\n",
       "  '1',\n",
       "  '63',\n",
       "  '76',\n",
       "  '28',\n",
       "  '26',\n",
       "  '23',\n",
       "  '40',\n",
       "  '45'],\n",
       " 'usage': 0,\n",
       " 'support': 0}"
      ]
     },
     "execution_count": 65,
     "metadata": {},
     "output_type": "execute_result"
    }
   ],
   "source": [
    "codetables[auxI][0]"
   ]
  },
  {
   "cell_type": "code",
   "execution_count": 33,
   "metadata": {},
   "outputs": [
    {
     "name": "stdout",
     "output_type": "stream",
     "text": [
      "[(1, 67469), (2, 67465), (3, 67245), (5, 67042), (6, 67040), (8, 66819), (9, 66710), (10, 66041), (13, 65204), (16, 64301), (19, 61616), (23, 58869), (24, 57856), (26, 55333), (27, 54352), (31, 46933), (34, 41180), (37, 34167), (40, 29016), (41, 25889), (43, 22251), (45, 20324), (46, 19896), (47, 19545), (48, 19221), (49, 19074), (50, 18996), (51, 18945), (52, 18883), (55, 16303), (58, 14460), (59, 13264), (60, 13113), (61, 12148), (62, 12024), (63, 10337), (64, 10287), (65, 9896), (66, 9557), (67, 8211), (68, 8177), (69, 7719), (72, 6847), (75, 6358), (77, 5949), (78, 5541), (80, 4769), (81, 4446), (82, 4242), (85, 3572), (88, 3090), (91, 2789), (95, 1785), (96, 1490), (98, 1275), (99, 1228), (100, 1214), (103, 1139), (106, 956), (109, 533), (113, 360), (114, 359), (116, 291), (117, 270), (118, 222), (119, 153), (120, 153), (121, 153), (124, 70), (127, 18)]\n",
      "[(4, 67044), (7, 66928), (11, 65450), (12, 65265), (14, 65143), (15, 64839), (17, 63096), (18, 62352), (20, 61206), (21, 60723), (22, 60374), (25, 55527), (28, 52898), (29, 51169), (30, 48104), (32, 44473), (33, 43385), (35, 40847), (36, 37671), (38, 32033), (39, 29729), (42, 24982), (44, 21772), (53, 18881), (54, 16635), (56, 15426), (57, 14509), (70, 7636), (71, 6940), (73, 6489), (74, 6449), (76, 6275), (79, 4932), (83, 3602), (84, 3581), (86, 3309), (87, 3262), (89, 3042), (90, 2851), (92, 2416), (93, 2351), (94, 2110), (97, 1471), (101, 1155), (102, 1151), (104, 1139), (105, 1137), (107, 811), (108, 705), (110, 447), (111, 364), (112, 362), (115, 314), (122, 90), (123, 74), (125, 66), (126, 18), (128, 18)]\n"
     ]
    }
   ],
   "source": [
    "print(f'{[(i,sct_codetable_sco[i][\"support\"]) for i in sorted(inter)]}') \n",
    "print(f'{[(i,sct_codetable_sco[i][\"support\"]) for i in sorted(global_set.difference(inter)) if i in sct_codetable_sco]}') \n",
    "\n",
    "\n"
   ]
  },
  {
   "cell_type": "code",
   "execution_count": null,
   "metadata": {},
   "outputs": [],
   "source": [
    "print([len(i) for i in codetables])\n"
   ]
  },
  {
   "cell_type": "code",
   "execution_count": null,
   "metadata": {},
   "outputs": [],
   "source": [
    "orig_dat_database = read_database_dat(os.path.join('databases', database_dat_filename))\n",
    "\n",
    "converted_merged_codetable = merge_codetables(codetables)\n"
   ]
  },
  {
   "cell_type": "code",
   "execution_count": null,
   "metadata": {},
   "outputs": [],
   "source": [
    "print([len(ct) for ct in codetables])\n",
    "print(sum([len(ct) for ct in codetables]))\n",
    "print(len(converted_merged_codetable))\n"
   ]
  },
  {
   "cell_type": "code",
   "execution_count": null,
   "metadata": {},
   "outputs": [],
   "source": [
    "calculate_codetable_support(orig_dat_database, converted_merged_codetable)\n",
    "converted_merged_codetable_sco = codetable_in_standard_cover_order(converted_merged_codetable)\n"
   ]
  },
  {
   "cell_type": "code",
   "execution_count": null,
   "metadata": {},
   "outputs": [],
   "source": [
    "calculate_codetable_usage(orig_dat_database, converted_merged_codetable_sco)"
   ]
  },
  {
   "cell_type": "code",
   "execution_count": null,
   "metadata": {},
   "outputs": [],
   "source": [
    "sct_codetable = build_SCT(orig_dat_database)\n",
    "sct_codetable_sco = codetable_in_standard_cover_order(sct_codetable)"
   ]
  },
  {
   "cell_type": "code",
   "execution_count": null,
   "metadata": {},
   "outputs": [],
   "source": [
    "merged_size = calculate_size_database_from_codetable (converted_merged_codetable_sco)\n",
    "sct_size = calculate_size_database_from_codetable(sct_codetable_sco)\n",
    "merged_ratio = merged_size / sct_size \n",
    "print(f'merged_ratio:{merged_ratio}')"
   ]
  },
  {
   "cell_type": "code",
   "execution_count": null,
   "metadata": {},
   "outputs": [],
   "source": [
    "converted_merged_codetable_sco[0]"
   ]
  },
  {
   "cell_type": "code",
   "execution_count": null,
   "metadata": {},
   "outputs": [],
   "source": [
    "def prune_by_usage_threshold(codetable, threshold): \n",
    "    return {i:{'code':codetable[i]['code'], \n",
    "           'support':0, \n",
    "           'usage':0, \n",
    "           'code_set':codetable[i]['code_set']} for i in codetable if codetable[i]['usage'] > threshold or len(codetable[i]['code']) == 1}"
   ]
  },
  {
   "cell_type": "code",
   "execution_count": null,
   "metadata": {},
   "outputs": [],
   "source": [
    "print(len(converted_orig_codetable_sco))\n",
    "print(len({label:converted_orig_codetable_sco[label] for label in converted_orig_codetable_sco if converted_orig_codetable_sco[label]['usage']>0}))\n",
    "print(len({label:converted_orig_codetable_sco[label] for label in converted_orig_codetable_sco if converted_orig_codetable_sco[label]['usage']>10}))\n",
    "\n",
    "print(len(converted_merged_codetable_sco))\n",
    "print(len({label:converted_merged_codetable_sco[label] for label in converted_merged_codetable_sco if converted_merged_codetable_sco[label]['usage']>0}))\n",
    "print(len({label:converted_merged_codetable_sco[label] for label in converted_merged_codetable_sco if converted_merged_codetable_sco[label]['usage']>6}))\n"
   ]
  },
  {
   "cell_type": "code",
   "execution_count": null,
   "metadata": {},
   "outputs": [],
   "source": [
    "pruned_merged_codetable = prune_by_usage_threshold(converted_merged_codetable_sco,10)\n",
    "print(len(pruned_merged_codetable))"
   ]
  },
  {
   "cell_type": "code",
   "execution_count": null,
   "metadata": {},
   "outputs": [],
   "source": [
    "calculate_codetable_support(orig_dat_database, pruned_merged_codetable)\n",
    "pruned_merged_codetable_sco = codetable_in_standard_cover_order(pruned_merged_codetable)\n",
    "calculate_codetable_usage(orig_dat_database, pruned_merged_codetable_sco)\n",
    "merged_size = calculate_size_database_from_codetable (pruned_merged_codetable_sco)\n",
    "sct_size = calculate_size_database_from_codetable(sct_codetable_sco)\n",
    "merged_ratio = merged_size / sct_size \n",
    "print(f'merged_ratio:{merged_ratio}')"
   ]
  },
  {
   "cell_type": "code",
   "execution_count": null,
   "metadata": {},
   "outputs": [],
   "source": [
    "merged_usage_array = [converted_merged_codetable_sco[i]['usage'] for i in converted_merged_codetable_sco if converted_merged_codetable_sco[i]['usage'] >0]\n",
    "merged_support_array = [converted_merged_codetable_sco[i]['support'] for i in converted_merged_codetable_sco]\n",
    "merged_length_array = [len(converted_merged_codetable_sco[i]['code']) for i in converted_merged_codetable_sco]\n",
    "\n",
    "pruned_merged_usage_array = [pruned_merged_codetable_sco[i]['usage'] for i in pruned_merged_codetable_sco if pruned_merged_codetable_sco[i]['usage']>0]\n",
    "pruned_merged_support_array = [pruned_merged_codetable_sco[i]['support'] for i in pruned_merged_codetable_sco]\n",
    "pruned_merged_length_array = [len(pruned_merged_codetable_sco[i]['code']) for i in pruned_merged_codetable_sco]"
   ]
  },
  {
   "cell_type": "code",
   "execution_count": null,
   "metadata": {},
   "outputs": [],
   "source": [
    "# we draw the histogram of the usage of the codes as well as the histogram of their support \n",
    "## as well as the histogram of the support of the items \n",
    "\n",
    "# again kudos for making things easier to \n",
    "\n",
    "# https://datatofish.com/plot-histogram-python/\n",
    "# n = number of observations\n",
    "# Range = maximum value – minimum value\n",
    "# # of intervals =  √n\n",
    "# Width of intervals =  Range / (# of intervals)\n",
    "\n",
    "import matplotlib.pyplot as plt\n",
    "\n",
    "plt.style.use('ggplot')\n",
    "plt.hist(merged_usage_array, bins=100, range=[0, max(merged_usage_array)])\n",
    "plt.title('Merged codetable Usage')\n",
    "plt.show()\n",
    "\n",
    "plt.hist(merged_support_array, bins=100, range=[0, max(merged_support_array)])\n",
    "plt.title('Merged codetable Support')\n",
    "plt.show()\n",
    "\n",
    "plt.hist(merged_length_array, bins=100, range=[0, max(merged_length_array)])\n",
    "plt.title('Merged codetable lengths')\n",
    "plt.show()\n"
   ]
  },
  {
   "cell_type": "code",
   "execution_count": null,
   "metadata": {},
   "outputs": [],
   "source": [
    "# we draw the histogram of the usage of the codes as well as the histogram of their support \n",
    "## as well as the histogram of the support of the items \n",
    "\n",
    "# again kudos for making things easier to \n",
    "\n",
    "# https://datatofish.com/plot-histogram-python/\n",
    "# n = number of observations\n",
    "# Range = maximum value – minimum value\n",
    "# # of intervals =  √n\n",
    "# Width of intervals =  Range / (# of intervals)\n",
    "\n",
    "import matplotlib.pyplot as plt\n",
    "import math\n",
    "\n",
    "plt.style.use('ggplot')\n",
    "\n",
    "#n = number of observations = 100\n",
    "#Range = maximum value – minimum value = 91 – 1 = 90\n",
    "# of intervals =  √n = √100 = 10\n",
    "#Width of intervals =  Range / (# of intervals) = 90/10 = 9\n",
    "\n",
    "def draw_pair_histograms(orig_array, merged_array, subfig1, subfig2, title1, title2): \n",
    "    n = max(len(orig_array),len(merged_array))\n",
    "    x_low = min(min(orig_array), min(merged_array))\n",
    "    x_high = max(max(orig_array), max(merged_array))\n",
    "    intervals = math.ceil(math.sqrt(n))\n",
    "    \n",
    "    print (f'size orig: {len(orig_array)} -- size merged: {len(merged_array)}')\n",
    "    print (f'min orig: {min(orig_array)} -- min merged: {min(merged_array)}')\n",
    "    print (f'max orig: {max(orig_array)} -- max merged: {max(merged_array)}')\n",
    "    \n",
    "    hist_orig = subfig1.hist(orig_array, bins=intervals , range=[x_low, x_high])\n",
    "    subfig1.set_title(title1)\n",
    "\n",
    "    hist_merged = subfig2.hist(merged_array, bins=intervals ,  range=[x_low, x_high])\n",
    "    subfig2.set_title(title2)\n",
    "\n",
    "    y_max = max(max(hist_orig[0]), max(hist_merged[0])) * 1.05\n",
    "    subfig1.set_ylim([0,y_max])\n",
    "    subfig2.set_ylim([0,y_max])\n",
    "\n",
    "fig,axs = plt.subplots(3,2)\n",
    "fig.suptitle(database_name,  fontsize=\"x-large\")\n",
    "fig.set_figheight(15)\n",
    "fig.set_figwidth(15)\n",
    "\n",
    "\n",
    "draw_pair_histograms(orig_usage_array, merged_usage_array, axs[0,0], axs[0,1], \n",
    "                             'Original codetable Usage', 'Merged codetable Usage')\n",
    "draw_pair_histograms(orig_support_array, merged_support_array, axs[1,0], axs[1,1], \n",
    "                             'Original codetable Support', 'Merged codetable Support')\n",
    "draw_pair_histograms(orig_length_codes_array, merged_length_array, axs[2,0], axs[2,1], \n",
    "                             'Original codetable lengths', 'Merged codetable lengths')\n",
    "\n"
   ]
  },
  {
   "cell_type": "code",
   "execution_count": null,
   "metadata": {},
   "outputs": [],
   "source": [
    "fig,axs = plt.subplots(3,2)\n",
    "fig.suptitle(database_name,  fontsize=\"x-large\")\n",
    "fig.set_figheight(15)\n",
    "fig.set_figwidth(15)\n",
    "\n",
    "\n",
    "draw_pair_histograms( merged_usage_array, pruned_merged_usage_array, axs[0,0], axs[0,1], \n",
    "                              'Merged codetable Usage', 'Pruned')\n",
    "draw_pair_histograms( merged_support_array, pruned_merged_support_array, axs[1,0], axs[1,1], \n",
    "                              'Merged codetable Support', 'Pruned')\n",
    "draw_pair_histograms( merged_length_array, pruned_merged_length_array, axs[2,0], axs[2,1], \n",
    "                             'Merged codetable lengths', 'Pruned')\n"
   ]
  },
  {
   "cell_type": "code",
   "execution_count": null,
   "metadata": {},
   "outputs": [],
   "source": []
  },
  {
   "cell_type": "code",
   "execution_count": null,
   "metadata": {},
   "outputs": [],
   "source": []
  }
 ],
 "metadata": {
  "kernelspec": {
   "display_name": "Python 3",
   "language": "python",
   "name": "python3"
  },
  "language_info": {
   "codemirror_mode": {
    "name": "ipython",
    "version": 3
   },
   "file_extension": ".py",
   "mimetype": "text/x-python",
   "name": "python",
   "nbconvert_exporter": "python",
   "pygments_lexer": "ipython3",
   "version": "3.7.10"
  }
 },
 "nbformat": 4,
 "nbformat_minor": 4
}
