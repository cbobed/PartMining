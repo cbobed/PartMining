{
  "cells": [
    {
      "cell_type": "markdown",
      "source": [
        "##**Classification experiments**\n",
        "To reproduce the classification experiments:\n",
        " - Download the CBDs folder from datasets in https://github.com/cbobed/PartMining and the [pretrained transaction embeddings for CBDs](https://drive.google.com/uc?export=download&id=1AKmY40Ws0OV0L-cSCo60pPcjBxp1Haq5)\n",
        "\n",
        " - Modifify the bellow varibles (if it is necessary)\n",
        "\n",
        "   ```\n",
        "    PATH_DIR_MODELS = \"embedingsClassic/\"\n",
        "    PATH_DIR_DATASETS = \"CBDs/\"\n",
        "    ```\n",
        "    with the folders containing the embeddings and the datasets, respectively.\n",
        "\n",
        "- Run the notebook and it is produced a file named `OUTPUT_FILE_NAME` with the accuracy results of `NVAL=10` runs for each dataset in folder `PATH_DIR_DATASETS`."
      ],
      "metadata": {
        "id": "mvmfQWk4Dox6"
      },
      "id": "mvmfQWk4Dox6"
    },
    {
      "cell_type": "code",
      "execution_count": null,
      "id": "34e440ba-65f1-4157-9612-6e9eddc60244",
      "metadata": {
        "id": "34e440ba-65f1-4157-9612-6e9eddc60244",
        "outputId": "302e9c6f-0b7e-4f8b-be99-26b9c5e7c322"
      },
      "outputs": [
        {
          "name": "stderr",
          "output_type": "stream",
          "text": [
            "[nltk_data] Downloading package punkt to /home/studio-lab-\n",
            "[nltk_data]     user/nltk_data...\n",
            "[nltk_data]   Package punkt is already up-to-date!\n"
          ]
        },
        {
          "data": {
            "text/plain": [
              "True"
            ]
          },
          "execution_count": 1,
          "metadata": {},
          "output_type": "execute_result"
        }
      ],
      "source": [
        "import numpy as np\n",
        "import gensim\n",
        "import os\n",
        "import re\n",
        "from datetime import datetime\n",
        "from sklearn.model_selection import train_test_split\n",
        "from sklearn.neighbors import KNeighborsClassifier\n",
        "from gensim.models import Word2Vec\n",
        "from scipy.special import softmax\n",
        "from sklearn.model_selection import cross_val_score, StratifiedKFold, train_test_split\n",
        "from sklearn.preprocessing import normalize\n",
        "from nltk.tokenize import word_tokenize\n",
        "import nltk\n",
        "nltk.download('punkt')"
      ]
    },
    {
      "cell_type": "code",
      "execution_count": null,
      "id": "f13381aa-6d68-467b-a951-2d09dca8aec7",
      "metadata": {
        "id": "f13381aa-6d68-467b-a951-2d09dca8aec7"
      },
      "outputs": [],
      "source": [
        "\n",
        "class IteratorDataFile:\n",
        "    \"\"\"\n",
        "     An iterator that yields items from all lines in a file\n",
        "    \"\"\"\n",
        "    def __init__(self, path, removecls=False):\n",
        "        self.path = path\n",
        "        self.removecls = removecls\n",
        "\n",
        "    def __iter__(self):\n",
        "        for line in open(self.path, encoding=\"utf8\"):\n",
        "            #remove classification: last number in line\n",
        "            if (self.removecls == True):\n",
        "                line = re.sub(\"[0-9]+$\",\"\",line)\n",
        "            yield word_tokenize(line)"
      ]
    },
    {
      "cell_type": "code",
      "execution_count": null,
      "id": "487d686f-bc3b-46f8-9131-6951e064d547",
      "metadata": {
        "id": "487d686f-bc3b-46f8-9131-6951e064d547"
      },
      "outputs": [],
      "source": [
        "PATH_DIR_MODELS = \"embedingsClassic/\"\n",
        "PATH_DIR_DATASETS = \"CBDs/\"\n",
        "\n",
        "DIM = ['50', '100','200']\n",
        "MODEL = ['w2v', 'Glove']\n",
        "NVAL = 10\n",
        "\n",
        "now=datetime.now()\n",
        "now = now.strftime(\"%Y-%m-%d_%H-%M-%S\")\n",
        "OUTPUT_FILE_NAME=\"resultsClassification\"+now+\".txt\"\n",
        "out = open(OUTPUT_FILE_NAME, 'a')\n",
        "out.write(\"dataset,model,dim,exp,acc\\n\")\n",
        "out.close()\n",
        "\n",
        "dirs = os.listdir(PATH_DIR_MODELS)\n",
        "dirs = sorted(dirs)\n",
        "\n",
        "for dir in dirs:\n",
        "    now=datetime.now()\n",
        "    now = now.strftime(\"%Y-%m-%d_%H-%M-%S\")\n",
        "    print(now)\n",
        "    print(dir)\n",
        "    MIN_KNG = 1\n",
        "    MAX_KNG = 21\n",
        "    KNEIGH = range(MIN_KNG, MAX_KNG)\n",
        "    kneighs = [KNeighborsClassifier(n_neighbors=i,p=2) for i in KNEIGH]\n",
        "\n",
        "    skf = StratifiedKFold(n_splits=10)\n",
        "\n",
        "    for dim in DIM:\n",
        "        # model filenames and dataset filename\n",
        "        file_models = []\n",
        "        for model in MODEL:\n",
        "            file_model=[file for file in os.listdir(PATH_DIR_MODELS + dir) if re.match('.*'+model+'.*D0?'+dim+'_.*',file) ]\n",
        "            assert(len(file_model) == 1)\n",
        "            print('    ' + file_model[0])\n",
        "            file_models.append(file_model[0])\n",
        "        assert(len(file_models) == len(MODEL))\n",
        "\n",
        "        file_dataset = [file for file in os.listdir(PATH_DIR_DATASETS + dir) if re.match(\"[^_]*\\.data$\",file)]\n",
        "        assert(len(file_dataset) == 1)\n",
        "        print('     ' + dim)\n",
        "\n",
        "        #read model files and classification\n",
        "        print('    Loading models.....')\n",
        "        trans_embs_list = [np.load(PATH_DIR_MODELS + dir + \"/\" + file) for file in file_models]\n",
        "        for t in trans_embs_list:\n",
        "            assert(t.shape[1] == int(dim))\n",
        "\n",
        "        itemIteratorCls = IteratorDataFile(PATH_DIR_DATASETS + dir + \"/\" + file_dataset[0], False)\n",
        "        cls_embs=[l[len(l)-1] for l in itemIteratorCls]\n",
        "        cls_embs=np.array(cls_embs)\n",
        "\n",
        "        out = open(OUTPUT_FILE_NAME, 'a')\n",
        "        for ntest in range(NVAL):\n",
        "            print('     TEST: ' + str(ntest))\n",
        "            #indexes (stratify): split 80% for cv and 20% for validation\n",
        "            index_cv, index_val, cls_cv, cls_val = train_test_split(np.arange(trans_embs_list[0].shape[0]), cls_embs,\n",
        "                                                                         test_size=0.2, stratify=cls_embs)\n",
        "            #embeddings for cv and validation\n",
        "            trans_embs_cv_list = [t[index_cv] for t in trans_embs_list]\n",
        "            trans_embs_val_list = [t[index_val] for t in trans_embs_list]\n",
        "\n",
        "            #perform validation: find best K for K neighbours in validation set\n",
        "            #indexes (stratify) for validation train/test\n",
        "            index_val_train, index_val_test, cls_val_train, cls_val_test = train_test_split(np.arange(trans_embs_val_list[0].shape[0]), cls_val,\n",
        "                                                               test_size=0.3, stratify=cls_val)\n",
        "            trans_embs_val_train_list = [t[index_val_train] for t in trans_embs_val_list]\n",
        "            trans_embs_val_test_list = [t[index_val_test] for t in trans_embs_val_list]\n",
        "\n",
        "            fit_models_val_list = [[KNeighborsClassifier(n_neighbors=i,p=2).fit(t, cls_val_train) for i in KNEIGH] for t in  trans_embs_val_train_list]\n",
        "            scores_models_val_list = [[m.score(t,cls_val_test) for m in models] for models, t in zip(fit_models_val_list, trans_embs_val_test_list)]\n",
        "            best_ks = [sc.index(max(sc))+MIN_KNG for sc in scores_models_val_list]\n",
        "\n",
        "            #crossvalidation\n",
        "            vals_acc = [[] for i in range(len(MODEL))]\n",
        "            for train_index, test_index in skf.split(trans_embs_cv_list[0], cls_cv):\n",
        "                trans_embs_train = [embs[train_index] for embs in trans_embs_cv_list]\n",
        "                trans_embs_test = [embs[test_index] for embs in trans_embs_cv_list]\n",
        "                cls_train = cls_cv[train_index]\n",
        "                cls_test = cls_cv[test_index]\n",
        "\n",
        "                models = [KNeighborsClassifier(n_neighbors=i,p=2) for i in best_ks]\n",
        "                fit_models_list = [m.fit(t,cls_train) for m, t in zip(models, trans_embs_train)]\n",
        "                scores_list = [m.score(t, cls_test) for m, t in zip(fit_models_list, trans_embs_test)]\n",
        "                for l, s in zip(vals_acc, scores_list):\n",
        "                    l.append(s)\n",
        "                for model, acc in zip(MODEL, scores_list):\n",
        "                    out.write(file_dataset[0]+\",\"+model+\",\"+dim+\",\"+str(ntest)+\",\"+str(acc)+\"\\n\")\n",
        "            means = [np.mean(l) for l in vals_acc]\n",
        "            print('     ' + str(means))\n",
        "        out.close()\n",
        "\n"
      ]
    }
  ],
  "metadata": {
    "kernelspec": {
      "display_name": "Python 3",
      "name": "python3"
    },
    "language_info": {
      "name": "python"
    },
    "colab": {
      "provenance": []
    }
  },
  "nbformat": 4,
  "nbformat_minor": 5
}